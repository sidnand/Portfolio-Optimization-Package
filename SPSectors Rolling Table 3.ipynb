{
 "cells": [
  {
   "cell_type": "markdown",
   "id": "cfde149f",
   "metadata": {},
   "source": [
    "# SPSectors Rolling, M = 120"
   ]
  },
  {
   "cell_type": "code",
   "execution_count": 5,
   "id": "292517b6",
   "metadata": {},
   "outputs": [],
   "source": [
    "import pandas as pd\n",
    "import numpy as np"
   ]
  },
  {
   "cell_type": "code",
   "execution_count": 6,
   "id": "74f5cf34",
   "metadata": {},
   "outputs": [],
   "source": [
    "# import data\n",
    "\n",
    "SPSectorsPandas = pd.read_csv(\"data/SPSectors.txt\", delim_whitespace = True)"
   ]
  },
  {
   "cell_type": "code",
   "execution_count": 7,
   "id": "624085e7",
   "metadata": {},
   "outputs": [
    {
     "data": {
      "text/html": [
       "<div>\n",
       "<style scoped>\n",
       "    .dataframe tbody tr th:only-of-type {\n",
       "        vertical-align: middle;\n",
       "    }\n",
       "\n",
       "    .dataframe tbody tr th {\n",
       "        vertical-align: top;\n",
       "    }\n",
       "\n",
       "    .dataframe thead th {\n",
       "        text-align: right;\n",
       "    }\n",
       "</style>\n",
       "<table border=\"1\" class=\"dataframe\">\n",
       "  <thead>\n",
       "    <tr style=\"text-align: right;\">\n",
       "      <th></th>\n",
       "      <th>%date</th>\n",
       "      <th>T-bill</th>\n",
       "      <th>Energy</th>\n",
       "      <th>Material</th>\n",
       "      <th>Industrials</th>\n",
       "      <th>Cons-Discr.</th>\n",
       "      <th>Cons-Staples</th>\n",
       "      <th>Helth-Care</th>\n",
       "      <th>Financials</th>\n",
       "      <th>Inf-Tech.</th>\n",
       "      <th>Telecom</th>\n",
       "      <th>Utilities</th>\n",
       "      <th>S\\&amp;P500</th>\n",
       "    </tr>\n",
       "  </thead>\n",
       "  <tbody>\n",
       "    <tr>\n",
       "      <th>0</th>\n",
       "      <td>19810130</td>\n",
       "      <td>0.0100</td>\n",
       "      <td>-0.1227</td>\n",
       "      <td>-0.0320</td>\n",
       "      <td>-0.0308</td>\n",
       "      <td>0.0038</td>\n",
       "      <td>0.0127</td>\n",
       "      <td>-0.0238</td>\n",
       "      <td>-0.0243</td>\n",
       "      <td>-0.1160</td>\n",
       "      <td>-0.0452</td>\n",
       "      <td>-0.0289</td>\n",
       "      <td>-0.0536</td>\n",
       "    </tr>\n",
       "    <tr>\n",
       "      <th>1</th>\n",
       "      <td>19810227</td>\n",
       "      <td>0.0107</td>\n",
       "      <td>0.0024</td>\n",
       "      <td>0.0030</td>\n",
       "      <td>0.0526</td>\n",
       "      <td>0.0446</td>\n",
       "      <td>0.0332</td>\n",
       "      <td>0.0015</td>\n",
       "      <td>0.0135</td>\n",
       "      <td>0.0110</td>\n",
       "      <td>-0.0222</td>\n",
       "      <td>-0.0359</td>\n",
       "      <td>0.0107</td>\n",
       "    </tr>\n",
       "    <tr>\n",
       "      <th>2</th>\n",
       "      <td>19810331</td>\n",
       "      <td>0.0132</td>\n",
       "      <td>-0.0338</td>\n",
       "      <td>0.1203</td>\n",
       "      <td>0.0577</td>\n",
       "      <td>0.0718</td>\n",
       "      <td>0.0314</td>\n",
       "      <td>0.0192</td>\n",
       "      <td>0.0740</td>\n",
       "      <td>0.0422</td>\n",
       "      <td>0.0677</td>\n",
       "      <td>0.0197</td>\n",
       "      <td>0.0253</td>\n",
       "    </tr>\n",
       "    <tr>\n",
       "      <th>3</th>\n",
       "      <td>19810430</td>\n",
       "      <td>0.0108</td>\n",
       "      <td>-0.0643</td>\n",
       "      <td>-0.0333</td>\n",
       "      <td>-0.0321</td>\n",
       "      <td>-0.0095</td>\n",
       "      <td>0.0104</td>\n",
       "      <td>-0.0015</td>\n",
       "      <td>-0.0028</td>\n",
       "      <td>-0.0054</td>\n",
       "      <td>0.0022</td>\n",
       "      <td>-0.0377</td>\n",
       "      <td>-0.0311</td>\n",
       "    </tr>\n",
       "    <tr>\n",
       "      <th>4</th>\n",
       "      <td>19810529</td>\n",
       "      <td>0.0106</td>\n",
       "      <td>-0.0570</td>\n",
       "      <td>-0.0047</td>\n",
       "      <td>-0.0078</td>\n",
       "      <td>0.0310</td>\n",
       "      <td>-0.0063</td>\n",
       "      <td>0.0017</td>\n",
       "      <td>0.0297</td>\n",
       "      <td>-0.0197</td>\n",
       "      <td>0.0674</td>\n",
       "      <td>0.0065</td>\n",
       "      <td>-0.0040</td>\n",
       "    </tr>\n",
       "  </tbody>\n",
       "</table>\n",
       "</div>"
      ],
      "text/plain": [
       "      %date  T-bill  Energy  Material  Industrials  Cons-Discr.  Cons-Staples  \\\n",
       "0  19810130  0.0100 -0.1227   -0.0320      -0.0308       0.0038        0.0127   \n",
       "1  19810227  0.0107  0.0024    0.0030       0.0526       0.0446        0.0332   \n",
       "2  19810331  0.0132 -0.0338    0.1203       0.0577       0.0718        0.0314   \n",
       "3  19810430  0.0108 -0.0643   -0.0333      -0.0321      -0.0095        0.0104   \n",
       "4  19810529  0.0106 -0.0570   -0.0047      -0.0078       0.0310       -0.0063   \n",
       "\n",
       "   Helth-Care  Financials  Inf-Tech.  Telecom  Utilities  S\\&P500  \n",
       "0     -0.0238     -0.0243    -0.1160  -0.0452    -0.0289  -0.0536  \n",
       "1      0.0015      0.0135     0.0110  -0.0222    -0.0359   0.0107  \n",
       "2      0.0192      0.0740     0.0422   0.0677     0.0197   0.0253  \n",
       "3     -0.0015     -0.0028    -0.0054   0.0022    -0.0377  -0.0311  \n",
       "4      0.0017      0.0297    -0.0197   0.0674     0.0065  -0.0040  "
      ]
     },
     "execution_count": 7,
     "metadata": {},
     "output_type": "execute_result"
    }
   ],
   "source": [
    "SPSectorsPandas.head()"
   ]
  },
  {
   "cell_type": "code",
   "execution_count": 8,
   "id": "28c50ac5",
   "metadata": {},
   "outputs": [],
   "source": [
    "SPSectors = SPSectorsPandas.to_numpy()[:, 1:]"
   ]
  },
  {
   "cell_type": "code",
   "execution_count": 9,
   "id": "75f0a226",
   "metadata": {},
   "outputs": [],
   "source": [
    "rows, cols = SPSectors.shape\n",
    "n = cols - 1"
   ]
  },
  {
   "cell_type": "code",
   "execution_count": 10,
   "id": "c9f39f3c",
   "metadata": {},
   "outputs": [],
   "source": [
    "# set parameters\n",
    "\n",
    "# Gamma : How risk averse an investor is, gamma >= 0\n",
    "gammaValue = [1, 2, 3, 4, 5, 10]\n",
    "\n",
    "# estimation window; how long we will estimate for\n",
    "window = 120"
   ]
  },
  {
   "cell_type": "code",
   "execution_count": 11,
   "id": "53ac5e9d",
   "metadata": {},
   "outputs": [],
   "source": [
    "# portfolio policies\n",
    "\n",
    "pf = {\n",
    "    \"ew\" : np.empty((n, rows - window)),\n",
    "    \"mv\" : np.empty((n, rows - window))\n",
    "}\n",
    "\n",
    "# portfolio weights before rebalancing\n",
    "pfBuyHold = {\n",
    "    \"ew\" : np.empty((n, rows - window)),\n",
    "    \"mv\" : np.empty((n, rows - window))\n",
    "}\n",
    "\n",
    "# out of sample returns\n",
    "outSample = {\n",
    "    \"ew\" : np.empty((1, rows - window)),\n",
    "    \"mv\" : np.empty((1, rows - window))\n",
    "}"
   ]
  },
  {
   "cell_type": "code",
   "execution_count": 12,
   "id": "e84ba37c",
   "metadata": {},
   "outputs": [],
   "source": [
    "# seperate risky from risk-free asset\n",
    "\n",
    "riskFreeReturns = SPSectors[:, 0] # risk-free asset column\n",
    "riskyReturns = SPSectors[:, 1:cols] # risky asset column, includes risk factor\n",
    "# riskFactor = SPSectors[:, end - RISK_FACTOR + 1: cols] # risk factor column"
   ]
  },
  {
   "cell_type": "code",
   "execution_count": 13,
   "id": "821ad8e7",
   "metadata": {},
   "outputs": [],
   "source": [
    "M = 120\n",
    "T = len(riskyReturns)\n",
    "\n",
    "nSubsets = 1 if M == T else T - M"
   ]
  },
  {
   "cell_type": "code",
   "execution_count": 14,
   "id": "494bd1f6",
   "metadata": {},
   "outputs": [],
   "source": [
    "# 1/N equal weight model\n",
    "\n",
    "# @param n : number of columns\n",
    "# @returns : np.array of size [n - 1, 1]\n",
    "def ew(n):\n",
    "    return 1/n * np.ones((n - 1, 1))"
   ]
  },
  {
   "cell_type": "code",
   "execution_count": 22,
   "id": "86b16428",
   "metadata": {},
   "outputs": [],
   "source": [
    "# mean-variance model\n",
    "\n",
    "def mv(AMLE, invSigmaMLE, n):\n",
    "    return 1/AMLE * invSigmaMLE.dot(np.ones((n - 1, 1)))"
   ]
  },
  {
   "cell_type": "code",
   "execution_count": 16,
   "id": "3b955d3c",
   "metadata": {},
   "outputs": [],
   "source": [
    "# w : array of weights\n",
    "# j : current shift position\n",
    "def buyHold(w, j):\n",
    "\n",
    "    a = (1 - sum(w)) * (1 + riskFreeReturns[window + j])\n",
    "    b = (1 + (riskyReturns[window + j, :].T + riskFreeReturns[window + j]))[np.newaxis].T\n",
    "    trp =a + w[np.newaxis].dot(b)\n",
    "    \n",
    "    return ((w * (1 + (riskyReturns[window + j, :]).T + riskFreeReturns[window + j])) / trp)\n"
   ]
  },
  {
   "cell_type": "code",
   "execution_count": 17,
   "id": "f567e157",
   "metadata": {},
   "outputs": [],
   "source": [
    "# w : array of weights\n",
    "# j : current shift position\n",
    "def outOfSampleReturns(w, j):\n",
    "    return w.T.dot(riskyReturns[window + j, :][np.newaxis].T)"
   ]
  },
  {
   "cell_type": "code",
   "execution_count": 18,
   "id": "1c08ba58",
   "metadata": {},
   "outputs": [],
   "source": [
    "# x : array of out of sample data\n",
    "def sharpeRato(x):\n",
    "    mean = np.mean(x.T)\n",
    "    std = np.std(x.T, ddof=1)\n",
    "    \n",
    "    if (abs(mean) > pow(10, -16)):\n",
    "        sr = mean / std;\n",
    "    else:\n",
    "        sr = None\n",
    "            \n",
    "    return sr"
   ]
  },
  {
   "cell_type": "code",
   "execution_count": 23,
   "id": "e2754901",
   "metadata": {},
   "outputs": [],
   "source": [
    "# rolling sample\n",
    "\n",
    "for shift in range(0, nSubsets):\n",
    "\n",
    "    riskySubset = riskyReturns[shift:window + shift, :]\n",
    "    riskFreeSubset = riskFreeReturns[shift:window + shift]\n",
    "    subset = np.column_stack((riskFreeSubset, riskySubset))\n",
    "    \n",
    "    mu = np.array([np.mean(riskFreeSubset)])\n",
    "    mu = np.append(mu, np.vstack(riskySubset.mean(axis = 0)))\n",
    "    \n",
    "    totalSigma = np.cov(subset.T)\n",
    "    sigma = (M - 1) / (M - n - 1 - 2) * np.cov(riskySubset.T)\n",
    "    \n",
    "    sigmaMLE = (M - 1) / M * np.cov(riskySubset.T)\n",
    "    invSigmaMLE = np.linalg.inv(sigmaMLE)\n",
    "    AMLE = np.ones((1, cols - 1)).dot(invSigmaMLE).dot(np.ones((cols - 1, 1)))\n",
    "    \n",
    "    # 1/N\n",
    "    alphaTew = ew(cols)\n",
    "    pf[\"ew\"][:, shift] = alphaTew[:, 0]\n",
    "    \n",
    "    # mean-variance\n",
    "    alphaMV = mv(AMLE, invSigmaMLE, cols)\n",
    "    pf[\"mv\"][:, shift] = alphaMV[:, 0]\n",
    "\n",
    "#     buy and hold\n",
    "    if shift == 0:\n",
    "        pfBuyHold[\"ew\"][:, shift]= alphaTew[:, 0]\n",
    "        pfBuyHold[\"mv\"][:, shift]= alphaMV[:, 0]\n",
    "    else:\n",
    "        pfBuyHold[\"ew\"][:, shift] = buyHold(pf[\"ew\"][:, shift - 1], shift)\n",
    "        pfBuyHold[\"mv\"][:, shift] = buyHold(pf[\"mv\"][:, shift - 1], shift)\n",
    "        \n",
    "    if (nSubsets > 1):\n",
    "#   out of sample returns\n",
    "        outSample[\"ew\"][:, shift] = outOfSampleReturns(alphaTew, shift)[:, 0]\n",
    "        outSample[\"mv\"][:, shift] = outOfSampleReturns(alphaMV, shift)[:, 0]"
   ]
  },
  {
   "cell_type": "code",
   "execution_count": 24,
   "id": "06138111",
   "metadata": {},
   "outputs": [
    {
     "name": "stdout",
     "output_type": "stream",
     "text": [
      "0.18761963181287292\n",
      "0.0819981240886543\n"
     ]
    }
   ],
   "source": [
    "# test 1/N naive portfolio policy\n",
    "\n",
    "sr = sharpeRato(outSample[\"ew\"])\n",
    "mv = sharpeRato(outSample[\"mv\"])\n",
    "\n",
    "print(sr)\n",
    "print(mv)"
   ]
  }
 ],
 "metadata": {
  "kernelspec": {
   "display_name": "Python 3 (ipykernel)",
   "language": "python",
   "name": "python3"
  },
  "language_info": {
   "codemirror_mode": {
    "name": "ipython",
    "version": 3
   },
   "file_extension": ".py",
   "mimetype": "text/x-python",
   "name": "python",
   "nbconvert_exporter": "python",
   "pygments_lexer": "ipython3",
   "version": "3.9.0"
  }
 },
 "nbformat": 4,
 "nbformat_minor": 5
}
